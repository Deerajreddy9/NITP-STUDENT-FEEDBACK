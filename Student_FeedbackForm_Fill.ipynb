{
 "cells": [
  {
   "cell_type": "markdown",
   "metadata": {},
   "source": [
    "# Download Chrome driver from\n",
    "https://chromedriver.chromium.org/downloads\n",
    "## and Place in path\n",
    "Copy the randomClicker.crx file to Ipython Notebook Path\n",
    "\n",
    "install selenium && pyautogui Packages"
   ]
  },
  {
   "cell_type": "code",
   "execution_count": 3,
   "metadata": {},
   "outputs": [
    {
     "name": "stderr",
     "output_type": "stream",
     "text": [
      "C:\\Users\\Deeraj-Reddy\\anaconda3\\lib\\site-packages\\ipykernel_launcher.py:6: DeprecationWarning: use options instead of chrome_options\n",
      "  \n"
     ]
    }
   ],
   "source": [
    "import selenium\n",
    "from selenium import webdriver\n",
    "from selenium.webdriver.chrome.options import Options\n",
    "from selenium.webdriver.common.keys import Keys\n",
    "import pyautogui\n",
    "options = Options()\n",
    "options.add_extension('randomClicker.crx')\n",
    "driver = webdriver.Chrome(executable_path=r\"C:\\Users\\Deeraj-Reddy\\Downloads\\chromedriver.exe\", chrome_options=options)"
   ]
  },
  {
   "cell_type": "code",
   "execution_count": 4,
   "metadata": {},
   "outputs": [],
   "source": [
    "driver.get('http://exam.nitp.ac.in:9001/home.aspx')"
   ]
  },
  {
   "cell_type": "code",
   "execution_count": null,
   "metadata": {},
   "outputs": [],
   "source": [
    "driver.find_element_by_name(\"txt_username\").send_keys(input('Enter UserName'))\n",
    "driver.find_element_by_name(\"txt_password\").send_keys(input('Enter password'))\n",
    "driver.find_element_by_name(\"btnSubmitLogin\").click()"
   ]
  },
  {
   "cell_type": "code",
   "execution_count": 56,
   "metadata": {},
   "outputs": [
    {
     "data": {
      "text/plain": [
       "Point(x=425, y=399)"
      ]
     },
     "execution_count": 56,
     "metadata": {},
     "output_type": "execute_result"
    }
   ],
   "source": [
    "# Change Postion output to move to in next section\n",
    "print(\"Place Cursor on Random Extension and run the code\")\n",
    "time.sleep(5)\n",
    "pyautogui.position()"
   ]
  },
  {
   "cell_type": "code",
   "execution_count": 62,
   "metadata": {},
   "outputs": [
    {
     "name": "stdout",
     "output_type": "stream",
     "text": [
      "Switch to selenium window asap!! with in 5 sec\n",
      "Switch to selenium window asap!! with in 5 sec\n",
      "Switch to selenium window asap!! with in 5 sec\n"
     ]
    }
   ],
   "source": [
    "while(True):\n",
    "    d = driver.find_elements_by_xpath('//*[@id=\"ctl00_ContentPlaceHolder2_ddlcourses\"]/option')[1].click()\n",
    "    print(\"Switch to selenium window asap!! with in 5 sec\")\n",
    "    time.sleep(5)\n",
    "    flag = 0\n",
    "    while(True):\n",
    "        try:\n",
    "            pyautogui.moveTo(1796,65)\n",
    "            pyautogui.click()\n",
    "            time.sleep(2)\n",
    "            driver.find_element_by_xpath(\"//*[@value='Next']\").click()\n",
    "            time.sleep(2)\n",
    "            flag = 1\n",
    "        except:\n",
    "                try:\n",
    "                    driver.find_elements_by_tag_name(\"textarea\")[0].send_keys(\"Everything is Good\")\n",
    "                    driver.find_elements_by_tag_name(\"textarea\")[1].send_keys(\"All Fine\")\n",
    "                    driver.find_element_by_xpath(\"//*[@value='Finish']\").click()\n",
    "                    flag = 1\n",
    "                except:\n",
    "                    try:\n",
    "                        driver.find_element_by_link_text(\"Click here\").click()\n",
    "                        break\n",
    "                    except:\n",
    "                        break\n",
    "    if (flag == 0):\n",
    "        break"
   ]
  }
 ],
 "metadata": {
  "kernelspec": {
   "display_name": "Python 3",
   "language": "python",
   "name": "python3"
  },
  "language_info": {
   "codemirror_mode": {
    "name": "ipython",
    "version": 3
   },
   "file_extension": ".py",
   "mimetype": "text/x-python",
   "name": "python",
   "nbconvert_exporter": "python",
   "pygments_lexer": "ipython3",
   "version": "3.7.6"
  }
 },
 "nbformat": 4,
 "nbformat_minor": 4
}
